{
 "cells": [
  {
   "cell_type": "code",
   "execution_count": 1,
   "id": "3cea2d5a",
   "metadata": {},
   "outputs": [
    {
     "data": {
      "text/plain": [
       "'Test failed for input {inp:0}'"
      ]
     },
     "execution_count": 1,
     "metadata": {},
     "output_type": "execute_result"
    }
   ],
   "source": [
    "inp = 0\n",
    "\"Test failed for input {inp:%s}\"%inp"
   ]
  },
  {
   "cell_type": "code",
   "execution_count": null,
   "id": "c2528277",
   "metadata": {},
   "outputs": [],
   "source": []
  }
 ],
 "metadata": {
  "kernelspec": {
   "display_name": "wavenet",
   "language": "python",
   "name": "python3"
  },
  "language_info": {
   "codemirror_mode": {
    "name": "ipython",
    "version": 3
   },
   "file_extension": ".py",
   "mimetype": "text/x-python",
   "name": "python",
   "nbconvert_exporter": "python",
   "pygments_lexer": "ipython3",
   "version": "3.11.9"
  }
 },
 "nbformat": 4,
 "nbformat_minor": 5
}
